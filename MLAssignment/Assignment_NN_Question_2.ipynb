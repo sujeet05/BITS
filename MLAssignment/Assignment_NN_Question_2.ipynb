{
 "cells": [
  {
   "cell_type": "markdown",
   "metadata": {},
   "source": [
    "# Question 2\n",
    "\n",
    "Write Python code to build a neural network with the following details. \n",
    "\n",
    "    - Input data = Iris dataset\n",
    "    - Number of hidden layers = 1\n",
    "    - Number of units in hidden layer = 10\n",
    "    - Number of iterations = 5000 \n",
    "    - Learning algorithm = stochastic gradient descent\n",
    "    - Activation = logistic\n",
    "    - Learning rate =  0.0001, 0.001, 0.01, 0.1, 1\n",
    "\n",
    "\n",
    "1. Compare the training score for each learning rate. \n",
    "2. Plot the loss curve for each  learning rate. \n",
    "3. Report execution time for each learning rate as a bar graph. (Use library time and time() method) \n"
   ]
  },
  {
   "cell_type": "markdown",
   "metadata": {},
   "source": [
    "## Expectations\n",
    "\n",
    "1. Expected output: (approximately)\n",
    "    - Training accuracy 0.0001 is xx.xxx\n",
    "    - Training accuracy 0.001 is xx.xxx\n",
    "    - Training accuracy 0.01 is xx.xxx\n",
    "    - Training accuracy 0.1 is xx.xxx\n",
    "    - Training accuracy 1 is xx.xxx \n",
    "    \n",
    "2. Graph: Training Loss (Actual output may vary)\n",
    "![title](images/op-learning.png)\n",
    "\n",
    "3. Bar graph: Execution Time (Actual output may vary)\n",
    "![title](images/time-learning.png)\n",
    "\n",
    "You are expected to modify this notebook and upload the modified file as assignment submission.\n",
    "\n",
    "<b> PS: Code written within the block will be evaluted. Other code will be ignored.\n",
    "#### start code here\n",
    "#### end code here"
   ]
  },
  {
   "cell_type": "code",
   "execution_count": 1,
   "metadata": {
    "collapsed": true
   },
   "outputs": [],
   "source": [
    "from sklearn import datasets  \n",
    "import numpy as np\n",
    "import matplotlib.pyplot as plt \n",
    "\n",
    "from sklearn.preprocessing import StandardScaler\n",
    "from sklearn.model_selection import train_test_split\n",
    "\n",
    "from sklearn.metrics import accuracy_score, classification_report, confusion_matrix\n",
    "\n",
    "# Load Iris dataset.\n",
    "\n",
    "iris = datasets.load_iris()\n",
    "\n",
    "# Extract all columns except last from the dataset for X values.\n",
    "# y is the target column.\n",
    "\n",
    "X = iris[\"data\"][:,:-1]  \n",
    "y = iris[\"target\"]\n",
    "\n",
    "# Split data into train and test\n",
    "\n",
    "(X_train, X_test, y_train, y_test) = train_test_split(X, y, stratify=y, test_size= 0.3)\n",
    "\n",
    "# normalise the data\n",
    "scaler = StandardScaler()\n",
    "scaler.fit(X_train)\n",
    "\n",
    "X_train = scaler.transform(X_train)\n",
    "X_test = scaler.transform(X_test)\n",
    "\n"
   ]
  },
  {
   "cell_type": "code",
   "execution_count": null,
   "metadata": {
    "collapsed": true
   },
   "outputs": [],
   "source": [
    "# Use the library function sklearn.neural_network.MLPClassifier \n",
    "from sklearn.neural_network import MLPClassifier\n",
    "import time\n",
    "# Build neural network for each learning rate. (max 10 lines of code) Use loop.\n",
    "# start code here\n",
    " \n",
    "# Declaration and initialization of few variables \n",
    "\n",
    "alphas = [0.0001,0.001,0.01,0.1,1]        # store the given learning rate\n",
    "mydict = {}                               # will be used to store the accuracy value against each learning rate\n",
    "mlps = []                                 # will be used in plotting the graph\n",
    "executiontime = {}                        # will be used to store the execution time agaist each learning rate\n",
    "\n",
    "for alpha in alphas:\n",
    "    \n",
    "    # Below line is for part 3 question to get the execution time \n",
    "    start_time = time.time()\n",
    "    \n",
    "    # Build the Neural Network as per given problem\n",
    "    mlp = MLPClassifier(hidden_layer_sizes=(10),activation='logistic',solver='sgd',learning_rate_init=alpha,max_iter=5000)\n",
    "    mlp.fit(X_train, y_train)\n",
    "    \n",
    "    # After completion store the execution time against learning rate\n",
    "    executiontime[alpha] = (time.time() - start_time) \n",
    "    \n",
    "    # Store the model values in dictonary to render the graph in given question no 2\n",
    "    mlps.append(mlp)\n",
    "    \n",
    "    # get the prediction values using model \n",
    "    predictions = mlp.predict(X_test)\n",
    "    \n",
    "    #Store the accuracy against each learning rate for problem NO 1\n",
    "    mydict[alpha]= accuracy_score(y_test, predictions)\n",
    "    \n",
    "    # Core Logic of Assignment End \n",
    "# end code here"
   ]
  },
  {
   "cell_type": "code",
   "execution_count": null,
   "metadata": {},
   "outputs": [],
   "source": [
    "# Compare the training  score for each learning rate. (max 2 lines of code) Use loop. \n",
    "\n",
    "# start code here\n",
    "for x in mydict:\n",
    "    val = mydict[x]\n",
    "    print ('Training accuracy '+ str(x) +'    is',val)   \n",
    "# end code here"
   ]
  },
  {
   "cell_type": "code",
   "execution_count": null,
   "metadata": {},
   "outputs": [],
   "source": [
    "# Plot the loss curve for each learning rate. (max 5 lines of code) Use loop.\n",
    "\n",
    "# start code here\n",
    "\n",
    "labels = [\"0.0001\",\"0.001\", \"0.01\",\"0.1\", \"1\"]        \n",
    "plot_args = [{'c': 'red', 'linestyle': '-'},\n",
    "             {'c': 'green', 'linestyle': '-'},\n",
    "             {'c': 'blue', 'linestyle': '-'},\n",
    "             {'c': 'Yellow', 'linestyle': '-'}, \n",
    "             {'c': 'black', 'linestyle': '-'}]\n",
    "for mlp, label, args in zip(mlps, labels, plot_args):\n",
    "        plt.plot(mlp.loss_curve_, label=label, **args)\n",
    "plt.legend()\n",
    "plt.show()\n",
    "plt.close('all')\n",
    "# end code here"
   ]
  },
  {
   "cell_type": "code",
   "execution_count": 63,
   "metadata": {},
   "outputs": [
    {
     "name": "stdout",
     "output_type": "stream",
     "text": [
      "0.0001 0.004850864410400391\n",
      "0.001 0.9447650909423828\n",
      "0.01 0.5804901123046875\n",
      "0.1 0.13973593711853027\n",
      "1 0.03126025199890137\n"
     ]
    },
    {
     "data": {
      "image/png": "[encoded data removed]",
      "text/plain": [
       "<matplotlib.figure.Figure at 0x1a190c2278>"
      ]
     },
     "metadata": {},
     "output_type": "display_data"
    }
   ],
   "source": [
    "# Plot the execution time as bar graph. (max 5 lines of code)\n",
    "\n",
    "# start code here\n",
    "for x in executiontime:\n",
    "    print(x, executiontime[x])\n",
    "plt.bar(range(len(executiontime)), list(executiontime.values()), align='center')\n",
    "plt.xticks(range(len(executiontime)), list(executiontime.keys()))\n",
    "plt.ylabel('Time')\n",
    "plt.xlabel('Learning rate')\n",
    "plt.title('Execution Time')\n",
    "plt.show()\n",
    "plt.close('all')\n",
    "\n",
    "# end code here"
   ]
  },
  {
   "cell_type": "code",
   "execution_count": null,
   "metadata": {
    "collapsed": true
   },
   "outputs": [],
   "source": []
  }
 ],
 "metadata": {
  "kernelspec": {
   "display_name": "Python 3",
   "language": "python",
   "name": "python3"
  },
  "language_info": {
   "codemirror_mode": {
    "name": "ipython",
    "version": 3
   },
   "file_extension": ".py",
   "mimetype": "text/x-python",
   "name": "python",
   "nbconvert_exporter": "python",
   "pygments_lexer": "ipython3",
   "version": "3.6.3"
  }
 },
 "nbformat": 4,
 "nbformat_minor": 2
}
